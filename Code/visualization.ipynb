{
 "cells": [
  {
   "cell_type": "code",
   "execution_count": 1,
   "metadata": {},
   "outputs": [],
   "source": [
    "import dash\n",
    "from dash import dcc\n",
    "from dash import html\n",
    "import plotly.express as px\n",
    "import pandas as pd\n",
    "import csv"
   ]
  },
  {
   "cell_type": "code",
   "execution_count": 2,
   "metadata": {},
   "outputs": [
    {
     "name": "stdout",
     "output_type": "stream",
     "text": [
      "[['2024-1-26', '2024-1-25', '2024-1-24', '2024-1-23', '2024-1-22', '2024-1-19', '2024-1-18', '2024-1-17', '2024-1-16', '2024-1-15', '2024-1-12', '2024-1-11', '2024-1-10', '2024-1-9', '2024-1-8', '2024-1-5', '2024-1-4', '2024-1-3', '2024-1-2', '2023-12-29', '2023-12-28', '2023-12-27', '2023-12-26', '2023-12-25', '2023-12-22', '2023-12-21', '2023-12-20', '2023-12-19', '2023-12-18', '2023-12-15', '2023-12-14', '2023-12-13', '2023-12-12', '2023-12-11', '2023-12-8', '2023-12-7', '2023-12-6', '2023-12-5', '2023-12-4', '2023-12-1', '2023-11-30', '2023-11-29', '2023-11-28', '2023-11-27', '2023-11-24', '2023-11-23', '2023-11-22', '2023-11-21', '2023-11-20', '2023-11-17', '2023-11-16', '2023-11-15', '2023-11-14', '2023-11-13', '2023-11-10', '2023-11-9', '2023-11-8', '2023-11-7', '2023-11-6', '2023-11-3', '2023-11-2', '2023-11-1', '2023-10-31', '2023-10-30'], ['11,295.73', '11,305.05', '11,110.15', '10,970.06', '10,993.37', '11,055.93', '11,017.67', '10,845.51', '11,105.09', '11,036.23', '11,044.82', '11,067.97', '11,038.60', '11,071.94', '11,052.26', '11,179.57', '11,212.10', '11,311.34', '11,307.38', '11,503.58', '11,463.90', '11,188.34', '11,173.03', '11,231.62', '11,199.73', '11,172.62', '11,053.29', '11,127.23', '11,110.43', '11,098.43', '11,115.79', '11,190.91', '11,429.63', '11,386.85', '11,371.83', '11,333.16', '11,350.55', '11,351.62', '11,567.71', '11,649.06', '11,756.05', '11,692.00', '11,775.85', '11,764.63', '11,889.77', '11,952.81', '11,935.47', '12,039.58', '11,973.78', '11,934.30', '11,981.04', '12,076.40', '11,983.53', '11,981.63', '12,039.56', '12,136.44', '12,129.99', '12,164.58', '12,245.06', '12,153.74', '12,068.94', '12,092.68', '11,991.53', '11,999.91']]\n"
     ]
    }
   ],
   "source": [
    "file = csv.reader(open(\"FTSE_China_A50-2023_10_28-2024_01_28.csv\"))\n",
    "data = [[],[]]\n",
    "next(file)\n",
    "for line in file:\n",
    "    data[0].append(line[0])\n",
    "    data[1].append(line[1])\n",
    "print(data)"
   ]
  },
  {
   "cell_type": "code",
   "execution_count": 3,
   "metadata": {},
   "outputs": [
    {
     "data": {
      "text/html": [
       "\n",
       "        <iframe\n",
       "            width=\"100%\"\n",
       "            height=\"650\"\n",
       "            src=\"http://127.0.0.1:8050/\"\n",
       "            frameborder=\"0\"\n",
       "            allowfullscreen\n",
       "            \n",
       "        ></iframe>\n",
       "        "
      ],
      "text/plain": [
       "<IPython.lib.display.IFrame at 0x2b7c0a2b730>"
      ]
     },
     "metadata": {},
     "output_type": "display_data"
    }
   ],
   "source": [
    "# Create a Dash app\n",
    "app = dash.Dash(__name__)\n",
    "\n",
    "# Define data\n",
    "data = {\n",
    "    'stock_value': data[0],\n",
    "    'time': data[1]\n",
    "}\n",
    "\n",
    "# Create a DataFrame from the data\n",
    "df = pd.DataFrame(data)\n",
    "\n",
    "# Create a scatter plot\n",
    "fig = px.scatter(df, x='time', y='stock_value', title='Stock Code A: Values Over Time')\n",
    "\n",
    "# Define app layout\n",
    "app.layout = html.Div([\n",
    "    dcc.Graph(figure=fig)\n",
    "])\n",
    "\n",
    "# Run the app\n",
    "if __name__ == '__main__':\n",
    "    app.run_server(debug=True)"
   ]
  }
 ],
 "metadata": {
  "kernelspec": {
   "display_name": "base",
   "language": "python",
   "name": "python3"
  },
  "language_info": {
   "codemirror_mode": {
    "name": "ipython",
    "version": 3
   },
   "file_extension": ".py",
   "mimetype": "text/x-python",
   "name": "python",
   "nbconvert_exporter": "python",
   "pygments_lexer": "ipython3",
   "version": "3.9.7"
  }
 },
 "nbformat": 4,
 "nbformat_minor": 2
}
